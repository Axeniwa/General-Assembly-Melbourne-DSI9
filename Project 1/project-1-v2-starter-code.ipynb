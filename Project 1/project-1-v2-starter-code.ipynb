{
 "cells": [
  {
   "cell_type": "markdown",
   "metadata": {},
   "source": [
    "<img src=\"http://imgur.com/1ZcRyrc.png\" style=\"float: left; margin: 15px; height: 80px\">\n",
    "\n",
    "# Project 1\n",
    "\n",
    "### Building \"Pokemon Stay\"\n",
    "\n",
    "---\n",
    "You are an analyst at a \"scrappy\" online gaming company that specializes in remakes of last year's fads.\n",
    "\n",
    "Your boss, who runs the product development team, is convinced that Pokemon Go's fatal flaw was that you had to actually move around outside. She has design mock-ups for a new game called Pokemon Stay: in this version players still need to move, but just from website to website. Pokemon gyms are now popular online destinations, and catching Pokemon in the \"wild\" simply requires browsing the internet for hours in the comfort of your home.\n",
    "\n",
    "She wants you to program a prototype version of the game, and analyze the planned content to help the team calibrate the design."
   ]
  },
  {
   "cell_type": "markdown",
   "metadata": {},
   "source": [
    "#### Package imports\n",
    "\n",
    "The pprint package below is the only package imported here, and it's not even strictly required to do any of the project. Printing python variables and objects with pprint can help to format them in a \"prettier\" way."
   ]
  },
  {
   "cell_type": "code",
   "execution_count": 1,
   "metadata": {},
   "outputs": [
    {
     "name": "stdout",
     "output_type": "stream",
     "text": [
      "'hello'\n"
     ]
    }
   ],
   "source": [
    "from pprint import pprint\n",
    "\n",
    "pprint(\"hello\")\n",
    "\n"
   ]
  },
  {
   "cell_type": "markdown",
   "metadata": {},
   "source": [
    "<img src=\"http://imgur.com/l5NasQj.png\" style=\"float: left; margin: 25px 15px 0px 0px; height: 25px\">\n",
    "\n",
    "## 1. Defining a player\n",
    "\n",
    "---\n",
    "\n",
    "The player variables are:\n",
    "\n",
    "    player_id : id code unique to each player (integer)\n",
    "    player_name : entered name of the player (string)\n",
    "    time_played : number of time played the game in minutes (float)\n",
    "    player_pokemon: the player's captured pokemon (dictionary)\n",
    "    gyms_visited: ids of the gyms that a player has visited (list)\n",
    "    \n",
    "Create the components for a player object by defining each of these variables. The dictionary and list variables should just be defined as empty; you can use any (correctly typed) values for the others."
   ]
  },
  {
   "cell_type": "code",
   "execution_count": 12,
   "metadata": {},
   "outputs": [],
   "source": [
    "from collections import defaultdict\n",
    "import numpy as np\n",
    "class Player:\n",
    "    def __init__(self,pid,name,tp,):\n",
    "        self.player_id = pid\n",
    "        self.player_name = name\n",
    "        self.time_played = tp\n",
    "        self.player_pokemon = defaultdict(int)\n",
    "        self.gyms_visited = []\n",
    "    "
   ]
  },
  {
   "cell_type": "code",
   "execution_count": 5,
   "metadata": {
    "scrolled": true
   },
   "outputs": [],
   "source": [
    "ash = Player(1,'ash',600.0)"
   ]
  },
  {
   "cell_type": "code",
   "execution_count": null,
   "metadata": {},
   "outputs": [],
   "source": []
  },
  {
   "cell_type": "markdown",
   "metadata": {},
   "source": [
    "<img src=\"http://imgur.com/l5NasQj.png\" style=\"float: left; margin: 25px 15px 0px 0px; height: 25px\">\n",
    "\n",
    "## 2. Defining \"gym\" locations\n",
    "\n",
    "---\n",
    "\n",
    "As the sole programmer, Pokemon Stay will have to start small. To begin, there will be 10 different gym location websites on the internet. The gym locations are:\n",
    "\n",
    "    1. 'reddit.com'\n",
    "    2. 'amazon.com'\n",
    "    3. 'twitter.com'\n",
    "    4. 'linkedin.com'\n",
    "    5. 'ebay.com'\n",
    "    6. 'netflix.com'\n",
    "    7. 'amazon.com'\n",
    "    8. 'stackoverflow.com'\n",
    "    9. 'github.com'\n",
    "    10. 'quora.com'\n",
    "\n",
    "1. Set up a list of all the gym locations. This will be a list of strings.\n",
    "2. Append two of these locations to your player's list of visited gyms.\n",
    "3. Print the list."
   ]
  },
  {
   "cell_type": "code",
   "execution_count": 71,
   "metadata": {
    "scrolled": false
   },
   "outputs": [],
   "source": [
    "pokemon_gyms = ['reddit.com'\n",
    ",'amazon.com'\n",
    ",'twitter.com'\n",
    ",'linkedin.com'\n",
    ",'ebay.com'\n",
    ", 'netflix.com'\n",
    ",'amazon.com'\n",
    ",'stackoverflow.com'\n",
    ",'github.com'\n",
    ",'quora.com']\n"
   ]
  },
  {
   "cell_type": "code",
   "execution_count": 72,
   "metadata": {},
   "outputs": [
    {
     "data": {
      "text/plain": [
       "['reddit.com',\n",
       " 'amazon.com',\n",
       " 'twitter.com',\n",
       " 'linkedin.com',\n",
       " 'ebay.com',\n",
       " 'netflix.com',\n",
       " 'amazon.com',\n",
       " 'stackoverflow.com',\n",
       " 'github.com',\n",
       " 'quora.com']"
      ]
     },
     "execution_count": 72,
     "metadata": {},
     "output_type": "execute_result"
    }
   ],
   "source": [
    "pokemon_gyms"
   ]
  },
  {
   "cell_type": "code",
   "execution_count": 20,
   "metadata": {},
   "outputs": [],
   "source": [
    "for i in range(2):\n",
    "    ash.gyms_visited.append(np.random.choice(pokemon_gyms,size=1)[0])"
   ]
  },
  {
   "cell_type": "code",
   "execution_count": 21,
   "metadata": {},
   "outputs": [
    {
     "data": {
      "text/plain": [
       "['reddit.com', 'github.com']"
      ]
     },
     "execution_count": 21,
     "metadata": {},
     "output_type": "execute_result"
    }
   ],
   "source": [
    "ash.gyms_visited"
   ]
  },
  {
   "cell_type": "markdown",
   "metadata": {},
   "source": [
    "<img src=\"http://imgur.com/l5NasQj.png\" style=\"float: left; margin: 25px 15px 0px 0px; height: 25px\">\n",
    "\n",
    "## 3. Create a pokedex\n",
    "\n",
    "---\n",
    "\n",
    "We also need to create some pokemon to catch. Each pokemon will be defined by these variables:\n",
    "\n",
    "    pokemon_id : unique identifier for each pokemon (integer)\n",
    "    name : the name of the pokemon (string)\n",
    "    type : the category of pokemon (string)\n",
    "    hp : base hitpoints (integer)\n",
    "    attack : base attack (integer)\n",
    "    defense : base defense (integer)\n",
    "    special_attack : base special attack (integer)\n",
    "    special_defense : base sepecial defense (integer)\n",
    "    speed : base speed (integer)\n",
    "\n",
    "We are only going to create 3 different pokemon with these `pokemon_id` and `pokemon_name` values:\n",
    "\n",
    "    1 : 'charmander'\n",
    "    2 : 'squirtle'\n",
    "    3 : 'bulbasaur'\n",
    "\n",
    "Create a dictionary that will contain the pokemon. The keys of the dictionary will be the `pokemon_id` and the values will themselves dictionaries that contain the other pokemon variables. The structure of the pokedex dictionary will start like so:\n",
    "     \n",
    "     {\n",
    "         1: {\n",
    "                 'name':'charmander',\n",
    "                 'type':'fire',\n",
    "                 ...\n",
    "                 \n",
    "The `type` of charmander, squirtle, and bulbasaur should be `'fire'`, `'water'`, and `'poison'` respectively. The other values are up to you, make them anything you like!\n",
    "\n",
    "Print (or pretty print) the pokedex dictionary with the 3 pokemon."
   ]
  },
  {
   "cell_type": "code",
   "execution_count": 78,
   "metadata": {},
   "outputs": [],
   "source": [
    "pokedex = {}\n",
    "def insertPoke(name,tp,hp,att,defe,satt,sdef,sp):\n",
    "    pid = 1\n",
    "    while pid in pokedex:\n",
    "        pid+=1\n",
    "    pokedex[pid] = {'name':name,\n",
    "                     'type':tp,\n",
    "                     'hp':hp,\n",
    "                     'attack':att,\n",
    "                     'defense':defe,\n",
    "                     'special_attack':satt,\n",
    "                     'special_defense':sdef,\n",
    "                     'speed':sp\n",
    "                    }\n"
   ]
  },
  {
   "cell_type": "code",
   "execution_count": 79,
   "metadata": {},
   "outputs": [],
   "source": [
    "insertPoke('Charmander','fire',10,8,5,9,6,6)\n",
    "insertPoke('Squirtle','water',10,6,6,7,7,9)\n",
    "insertPoke('Bulbasaur','poison',12,7,9,8,9,4)"
   ]
  },
  {
   "cell_type": "code",
   "execution_count": 80,
   "metadata": {},
   "outputs": [
    {
     "data": {
      "text/plain": [
       "{1: {'name': 'Charmander',\n",
       "  'type': 'fire',\n",
       "  'hp': 10,\n",
       "  'attack': 8,\n",
       "  'defense': 5,\n",
       "  'special_attack': 9,\n",
       "  'special_defense': 6,\n",
       "  'speed': 6},\n",
       " 2: {'name': 'Squirtle',\n",
       "  'type': 'water',\n",
       "  'hp': 10,\n",
       "  'attack': 6,\n",
       "  'defense': 6,\n",
       "  'special_attack': 7,\n",
       "  'special_defense': 7,\n",
       "  'speed': 9},\n",
       " 3: {'name': 'Bulbasaur',\n",
       "  'type': 'poison',\n",
       "  'hp': 12,\n",
       "  'attack': 7,\n",
       "  'defense': 9,\n",
       "  'special_attack': 8,\n",
       "  'special_defense': 9,\n",
       "  'speed': 4}}"
      ]
     },
     "execution_count": 80,
     "metadata": {},
     "output_type": "execute_result"
    }
   ],
   "source": [
    "pokedex"
   ]
  },
  {
   "cell_type": "markdown",
   "metadata": {},
   "source": [
    "<img src=\"http://imgur.com/l5NasQj.png\" style=\"float: left; margin: 25px 15px 0px 0px; height: 25px\">\n",
    "\n",
    "## 4. Create a data structure for players\n",
    "\n",
    "---\n",
    "\n",
    "### 4.1 \n",
    "\n",
    "In order to maintain a database of multiple players, create a dictionary that keeps track of players indexed by `player_id`. \n",
    "\n",
    "The keys of the dictionary will be `player_id` and values will be dictionaries containing each player's variables (from question 1). \n",
    "\n",
    "Construct the `players` dictionary and insert the player that you defined in question 1, then print `players`."
   ]
  },
  {
   "cell_type": "code",
   "execution_count": 81,
   "metadata": {},
   "outputs": [],
   "source": [
    "players = {}"
   ]
  },
  {
   "cell_type": "code",
   "execution_count": null,
   "metadata": {},
   "outputs": [],
   "source": []
  },
  {
   "cell_type": "code",
   "execution_count": 82,
   "metadata": {},
   "outputs": [],
   "source": [
    "def insertPlayer(name,tp,ppk,gv):\n",
    "    pid = 1\n",
    "    while pid in players:\n",
    "        pid+=1\n",
    "    players[pid] = {'player_name':name,\n",
    "                     'time_played':tp,\n",
    "                     'player_pokemon':ppk,\n",
    "                     'gyms_visited':gv,\n",
    "                    }"
   ]
  },
  {
   "cell_type": "code",
   "execution_count": 83,
   "metadata": {},
   "outputs": [],
   "source": [
    "insertPlayer(ash.player_name,ash.time_played,ash.player_pokemon,ash.gyms_visited)"
   ]
  },
  {
   "cell_type": "code",
   "execution_count": 84,
   "metadata": {},
   "outputs": [
    {
     "data": {
      "text/plain": [
       "{1: {'player_name': 'ash',\n",
       "  'time_played': 600.0,\n",
       "  'player_pokemon': defaultdict(int,\n",
       "              {2: {'name': 'Squirtle',\n",
       "                'type': 'water',\n",
       "                'hp': 10,\n",
       "                'attack': 6,\n",
       "                'defence': 6,\n",
       "                'special_attack': 7,\n",
       "                'special_defence': 7,\n",
       "                'speed': 9}}),\n",
       "  'gyms_visited': ['reddit.com', 'github.com']}}"
      ]
     },
     "execution_count": 84,
     "metadata": {},
     "output_type": "execute_result"
    }
   ],
   "source": [
    "players"
   ]
  },
  {
   "cell_type": "markdown",
   "metadata": {},
   "source": [
    "---\n",
    "\n",
    "### 4.2\n",
    "\n",
    "Create a new player with `player_id = 2` in the `players` dictionary. Leave the `'player_pokemon'` dictionary empty. Append `'alcatraz'` and `'pacific_beach'` to the `'gyms_visited'` list for player 2.\n",
    "\n",
    "The `'player_name'` and `'time_played'` values are up to you, but must be a string and float, respectively.\n",
    "\n",
    "Remember, the player_id is the key for the player in the players dictionary.\n",
    "\n",
    "Print the `players` dictionary with the new player inserted."
   ]
  },
  {
   "cell_type": "code",
   "execution_count": 85,
   "metadata": {},
   "outputs": [],
   "source": [
    "insertPlayer('Jean',2000.0,{},['alcatraz','pacific_beach'])"
   ]
  },
  {
   "cell_type": "code",
   "execution_count": 86,
   "metadata": {},
   "outputs": [
    {
     "data": {
      "text/plain": [
       "{1: {'player_name': 'ash',\n",
       "  'time_played': 600.0,\n",
       "  'player_pokemon': defaultdict(int,\n",
       "              {2: {'name': 'Squirtle',\n",
       "                'type': 'water',\n",
       "                'hp': 10,\n",
       "                'attack': 6,\n",
       "                'defence': 6,\n",
       "                'special_attack': 7,\n",
       "                'special_defence': 7,\n",
       "                'speed': 9}}),\n",
       "  'gyms_visited': ['reddit.com', 'github.com']},\n",
       " 2: {'player_name': 'Jean',\n",
       "  'time_played': 2000.0,\n",
       "  'player_pokemon': {},\n",
       "  'gyms_visited': ['alcatraz', 'pacific_beach']}}"
      ]
     },
     "execution_count": 86,
     "metadata": {},
     "output_type": "execute_result"
    }
   ],
   "source": [
    "players"
   ]
  },
  {
   "cell_type": "markdown",
   "metadata": {},
   "source": [
    "<img src=\"http://imgur.com/l5NasQj.png\" style=\"float: left; margin: 25px 15px 0px 0px; height: 25px\">\n",
    "\n",
    "## 5. Add captured pokemon for each player\n",
    "\n",
    "---\n",
    "\n",
    "The `'player_pokemon'` keyed dictionaries for each player keep track of which of the pokemon each player has.\n",
    "\n",
    "The keys of the `'player_pokemon'` dictionaries are the pokemon ids that correspond to the ids in the `pokedex` dictionary you created earlier. The values are integers specifying the stats for the pokemon.\n",
    "\n",
    "Give player 1 a squirtle. Give player 2 charmander and a bulbasaur.\n",
    "\n",
    "Print the players dictionary after adding the pokemon for each player.\n"
   ]
  },
  {
   "cell_type": "code",
   "execution_count": 56,
   "metadata": {},
   "outputs": [],
   "source": [
    "def addPoke(player,poke):\n",
    "    players[player]['player_pokemon'][poke] = pokedex[poke]"
   ]
  },
  {
   "cell_type": "code",
   "execution_count": 67,
   "metadata": {},
   "outputs": [
    {
     "data": {
      "text/plain": [
       "{1: {'player_name': 'ash',\n",
       "  'time_played': 600.0,\n",
       "  'player_pokemon': defaultdict(int, {}),\n",
       "  'gyms_visited': ['reddit.com', 'github.com']},\n",
       " 2: {'player_name': 'Jean',\n",
       "  'time_played': 2000.0,\n",
       "  'player_pokemon': {},\n",
       "  'gyms_visited': ['alcatraz', 'pacific_beach']}}"
      ]
     },
     "execution_count": 67,
     "metadata": {},
     "output_type": "execute_result"
    }
   ],
   "source": [
    "players"
   ]
  },
  {
   "cell_type": "code",
   "execution_count": 68,
   "metadata": {},
   "outputs": [],
   "source": [
    "addPoke(1,2)\n"
   ]
  },
  {
   "cell_type": "code",
   "execution_count": 87,
   "metadata": {},
   "outputs": [],
   "source": [
    "addPoke(2,1)\n",
    "addPoke(2,3)"
   ]
  },
  {
   "cell_type": "code",
   "execution_count": 88,
   "metadata": {},
   "outputs": [
    {
     "data": {
      "text/plain": [
       "{1: {'player_name': 'ash',\n",
       "  'time_played': 600.0,\n",
       "  'player_pokemon': defaultdict(int,\n",
       "              {2: {'name': 'Squirtle',\n",
       "                'type': 'water',\n",
       "                'hp': 10,\n",
       "                'attack': 6,\n",
       "                'defence': 6,\n",
       "                'special_attack': 7,\n",
       "                'special_defence': 7,\n",
       "                'speed': 9}}),\n",
       "  'gyms_visited': ['reddit.com', 'github.com']},\n",
       " 2: {'player_name': 'Jean',\n",
       "  'time_played': 2000.0,\n",
       "  'player_pokemon': {1: {'name': 'Charmander',\n",
       "    'type': 'fire',\n",
       "    'hp': 10,\n",
       "    'attack': 8,\n",
       "    'defense': 5,\n",
       "    'special_attack': 9,\n",
       "    'special_defense': 6,\n",
       "    'speed': 6},\n",
       "   3: {'name': 'Bulbasaur',\n",
       "    'type': 'poison',\n",
       "    'hp': 12,\n",
       "    'attack': 7,\n",
       "    'defense': 9,\n",
       "    'special_attack': 8,\n",
       "    'special_defense': 9,\n",
       "    'speed': 4}},\n",
       "  'gyms_visited': ['alcatraz', 'pacific_beach']}}"
      ]
     },
     "execution_count": 88,
     "metadata": {},
     "output_type": "execute_result"
    }
   ],
   "source": [
    "players"
   ]
  },
  {
   "cell_type": "markdown",
   "metadata": {},
   "source": [
    "\n",
    "\n",
    "## 6. What gyms have players visited?\n",
    "\n",
    "---\n",
    "<img src=\"http://imgur.com/l5NasQj.png\" style=\"float: left; margin: 25px 15px 0px 0px; height: 25px\">\n",
    "### 6.1\n",
    "\n",
    "Write a for-loop that:\n",
    "\n",
    "1. Iterates through the `pokemon_gyms` list of gym locations you defined before.\n",
    "2. For each gym, iterate through each player in the `players` dictionary with a second, internal for-loop.\n",
    "3. If the player has visited the gym, print out \"[player] has visited [gym location].\", filling in [player] and [gym location] with the current player's name and current gym location."
   ]
  },
  {
   "cell_type": "code",
   "execution_count": 76,
   "metadata": {},
   "outputs": [
    {
     "name": "stdout",
     "output_type": "stream",
     "text": [
      "ash has visited reddit.com\n",
      "ash has visited github.com\n"
     ]
    }
   ],
   "source": [
    "for g in pokemon_gyms:\n",
    "    for p in players:\n",
    "        if g in players[p]['gyms_visited']:\n",
    "            print(players[p]['player_name'], 'has visited',g)"
   ]
  },
  {
   "cell_type": "markdown",
   "metadata": {},
   "source": [
    "<img src=\"http://imgur.com/xDpSobf.png\" style=\"float: left; margin: 25px 15px 0px 0px; height: 25px\">\n",
    "### 6.2\n",
    "\n",
    "How many times did that loop run? If you have N gyms and also N players, how many times would it run as a function of N?\n",
    "\n",
    "Can you think of a more efficient way to accomplish the same thing? \n",
    "\n",
    "(You can write your answer as Markdown text.)"
   ]
  },
  {
   "cell_type": "code",
   "execution_count": 77,
   "metadata": {},
   "outputs": [],
   "source": [
    "#loop ran for N**2 times"
   ]
  },
  {
   "cell_type": "code",
   "execution_count": null,
   "metadata": {},
   "outputs": [],
   "source": [
    "#run through the gyms each player has visited, and test if the gym is in the pokemon_gyms list"
   ]
  },
  {
   "cell_type": "markdown",
   "metadata": {},
   "source": [
    "<img src=\"http://imgur.com/l5NasQj.png\" style=\"float: left; margin: 25px 15px 0px 0px; height: 25px\">\n",
    "\n",
    "## 7. Calculate player \"power\".\n",
    "\n",
    "---\n",
    "\n",
    "Define a function that will calculate a player's \"power\". Player power is defined as the sum of the base statistics all of their pokemon.\n",
    "\n",
    "Your function will:\n",
    "\n",
    "1. Accept the `players` dictionary, `pokedex` dictionary, and a player_id as arguments.\n",
    "2. For the specified player_id, look up that player's pokemon and their level(s).\n",
    "3. Find and aggregate the attack and defense values for each of the player's pokemon from the `pokedex` dictionary.\n",
    "4. Print \"[player name]'s power is [player power].\", where the player power is the sum of the base statistics for all of their pokemon.\n",
    "5. Return the player's power value.\n",
    "\n",
    "Print out the pokemon power for each of your players."
   ]
  },
  {
   "cell_type": "code",
   "execution_count": 90,
   "metadata": {},
   "outputs": [],
   "source": [
    "def pokePower(pokedex,pid):\n",
    "    return pokedex[pid]['attack']+pokedex[pid]['defense']\n"
   ]
  },
  {
   "cell_type": "code",
   "execution_count": 93,
   "metadata": {},
   "outputs": [],
   "source": [
    "def playerPower(players,pokedex,pid):\n",
    "    power = 0\n",
    "    for p in players[pid]['player_pokemon']:\n",
    "        power+=pokePower(pokedex,p)\n",
    "    print(players[pid]['player_name'] +\"'s power is\", power)"
   ]
  },
  {
   "cell_type": "code",
   "execution_count": 94,
   "metadata": {},
   "outputs": [
    {
     "name": "stdout",
     "output_type": "stream",
     "text": [
      "ash's power is 12\n",
      "Jean's power is 29\n"
     ]
    }
   ],
   "source": [
    "for p in players:\n",
    "    playerPower(players,pokedex,p)"
   ]
  },
  {
   "cell_type": "markdown",
   "metadata": {
    "collapsed": true
   },
   "source": [
    "<img src=\"http://imgur.com/l5NasQj.png\" style=\"float: left; margin: 25px 15px 0px 0px; height: 25px\">\n",
    "\n",
    "## 8. Load a pokedex file containing all the pokemon\n",
    "\n",
    "---\n",
    "\n",
    "### 8.1\n",
    "\n",
    "While you were putting together the prototype code, your colleagues were preparing a dataset of Pokemon and their attributes. (This was a rush job, so they may have picked some crazy values for some...)\n",
    "\n",
    "The code below loads information from a comma separated value (csv) file. You need to parse this string into a more useable format. The format of the string is:\n",
    "\n",
    "- Rows are separated by newline characters: \\n\n",
    "- Columns are separated by commas: ,\n",
    "- All cells in the csv are double quoted. Ex: \"PokedexNumber\" is the first cell of the first row.\n",
    "\n",
    "\n",
    "Using for-loops, create a list of lists where each list within the overall list is a row of the csv/matrix, and each element in that list is a cell in that row. Additional criteria:\n",
    "\n",
    "1. Quotes are removed from each cell item.\n",
    "2. Numeric column values are converted to floats.\n",
    "3. There are some cells that are empty and have no information. For these cells put a -1 value in place.\n",
    "\n",
    "Your end result is effectively a matrix. Each list in the outer list is a row, and the *j*th elements of list together form the *j*th column, which represents a data attribute. The first three lists in your pokedex list should look like this:\n",
    "\n",
    "    ['PokedexNumber', 'Name', 'Type', 'Total', 'HP', 'Attack', 'Defense', 'SpecialAttack', 'SpecialDefense', 'Speed']\n",
    "    [1.0, 'Bulbasaur', 'GrassPoison', 318.0, 45.0, 49.0, 49.0, 65.0, 65.0, 45.0]\n",
    "    [2.0, 'Ivysaur', 'GrassPoison', 405.0, 60.0, 62.0, 63.0, 80.0, 80.0, 60.0]"
   ]
  },
  {
   "cell_type": "code",
   "execution_count": 385,
   "metadata": {},
   "outputs": [],
   "source": [
    "# Code to read in pokedex info\n",
    "raw_pd = ''\n",
    "pokedex_file = 'pokedex_basic.csv'\n",
    "with open(pokedex_file, 'r') as f:\n",
    "    raw_pd = f.read()\n",
    "    \n",
    "# the pokedex string is assigned to the raw_pd variable\n"
   ]
  },
  {
   "cell_type": "code",
   "execution_count": 143,
   "metadata": {},
   "outputs": [],
   "source": [
    "ll = []\n",
    "for l in raw_pd.replace('\"','').split('\\n'):\n",
    "    ll.append(l.split(','))"
   ]
  },
  {
   "cell_type": "code",
   "execution_count": 144,
   "metadata": {},
   "outputs": [],
   "source": [
    "llu = []\n",
    "for l in ll:\n",
    "    lt = []\n",
    "    for d in l:\n",
    "        if d.replace('.','',1).isdigit():\n",
    "            lt.append(float(d))\n",
    "        elif d == '':\n",
    "            lt.append(-1)\n",
    "        else:\n",
    "            lt.append(d)\n",
    "    llu.append(lt)"
   ]
  },
  {
   "cell_type": "markdown",
   "metadata": {},
   "source": [
    "<img src=\"http://imgur.com/xDpSobf.png\" style=\"float: left; margin: 25px 15px 0px 0px; height: 25px\">\n",
    "\n",
    "### 8.2 Parse the raw pokedex with list comprehensions\n",
    "\n",
    "---\n",
    "\n",
    "Perform the same parsing as above, but **using only a single list comprehension** instead of for loops. You may have nested list comprehensions within the main list comprehension! The output should be exactly the same."
   ]
  },
  {
   "cell_type": "code",
   "execution_count": 388,
   "metadata": {},
   "outputs": [],
   "source": [
    "lolu = [[float(d) if d.replace('.','',1).isdigit() else -1 if d == '' else d for d in r ] \n",
    "        for r in [l.split(',') for l in raw_pd.replace('\"','').split('\\n')]]"
   ]
  },
  {
   "cell_type": "code",
   "execution_count": 384,
   "metadata": {},
   "outputs": [
    {
     "data": {
      "text/plain": [
       "True"
      ]
     },
     "execution_count": 384,
     "metadata": {},
     "output_type": "execute_result"
    }
   ],
   "source": [
    "llu == lolu"
   ]
  },
  {
   "cell_type": "markdown",
   "metadata": {},
   "source": [
    "<img src=\"http://imgur.com/l5NasQj.png\" style=\"float: left; margin: 25px 15px 0px 0px; height: 25px\">\n",
    "\n",
    "## 9. Write a function to generate the full pokedex\n",
    "\n",
    "---\n",
    "\n",
    "Write a function that recreates the pokedex you made before, but with the data read in from the full pokemon file. The `PokedexNumber` should be used as the `pokemon_id` key values for the dictionary of pokemon.\n",
    "\n",
    "Your function should:\n",
    "\n",
    "1. Take the parsed pokedex information you created above as an argument.\n",
    "2. Return a dictionary in the same format as your original pokedex you created before containing the information from the parsed full pokedex file.\n",
    "\n",
    "To test the function, print out the pokemon with id = 100."
   ]
  },
  {
   "cell_type": "code",
   "execution_count": 390,
   "metadata": {},
   "outputs": [],
   "source": [
    "def genePokedex(pokelist):\n",
    "\n",
    "    header = pokelist[0]\n",
    "    body = pokelist[1:]\n",
    "    body_reindex = []\n",
    "    for b in body:\n",
    "        if not int(b[0]) in body_reindex:\n",
    "            body_reindex.append(int(b[0]))\n",
    "            add_point=0.1\n",
    "        else:\n",
    "            body_reindex.append(b[0]+add_point)\n",
    "            add_point+=0.1\n",
    "    return {body_reindex[i]:{header[m+1]:n for m,n in enumerate(k[1:])} for i,k in enumerate(body)}\n"
   ]
  },
  {
   "cell_type": "code",
   "execution_count": 222,
   "metadata": {},
   "outputs": [
    {
     "data": {
      "text/plain": [
       "{'Name': 'Voltorb',\n",
       " 'Type': 'Electric',\n",
       " 'Total': 330.0,\n",
       " 'HP': 40.0,\n",
       " 'Attack': 30.0,\n",
       " 'Defense': 50.0,\n",
       " 'SpecialAttack': 55.0,\n",
       " 'SpecialDefense': 55.0,\n",
       " 'Speed': 100.0}"
      ]
     },
     "execution_count": 222,
     "metadata": {},
     "output_type": "execute_result"
    }
   ],
   "source": [
    "genePokedex(lolu)[100]"
   ]
  },
  {
   "cell_type": "code",
   "execution_count": 223,
   "metadata": {},
   "outputs": [],
   "source": [
    "fulldex = genePokedex(lolu)"
   ]
  },
  {
   "cell_type": "markdown",
   "metadata": {},
   "source": [
    "<img src=\"http://i.imgur.com/GCAf1UX.png\" style=\"float: left; margin: 25px 15px 0px 0px; height: 25px\">\n",
    "\n",
    "## 10. Write a function to generate a \"filtered\" pokedex\n",
    "---\n",
    "Your function should:\n",
    "1. Take the parsed pokedex information you created above as an argument.\n",
    "1. Take a dictionary as a parameter with keys matching the features of the Pokedex, filtering by exact match for string type values, and/or filter continuous variables specified value that is greater than or equal to the dictionary key parameter.\n",
    "1. Return multiple elements from the Pokedex\n",
    "\n",
    "Example:\n",
    "\n",
    "```python\n",
    "\n",
    "# Only filter based on parameters passed\n",
    "filter_options = {\n",
    "    'Attack':   25,\n",
    "    'Defense':  30,\n",
    "    'Type':     'Electric'\n",
    "}\n",
    "\n",
    "# Return records with attack >= 24, defense >= 30, and type == \"Electric\"\n",
    "# Also anticipate that other paramters can also be passed such as \"SpecialAttack\", \"Speed\", etc.\n",
    "filtered_pokedex(pokedex_data, filter=filter_options)\n",
    "\n",
    "# Example output:\n",
    "# [{'Attack': 30.0,\n",
    "#  'Defense': 50.0,\n",
    "#  'HP': 40.0,\n",
    "#  'Name': 'Voltorb',\n",
    "#  'SpecialAttack': 55.0,\n",
    "#  'SpecialDefense': 55.0,\n",
    "#  'Speed': 100.0,\n",
    "#  'Total': 330.0,\n",
    "#  'Type': 'Electric'},\n",
    "#  {'Attack': 30.0,\n",
    "#  'Defense': 33.0,\n",
    "#  'HP': 32.0,\n",
    "#  'Name': 'Pikachu',\n",
    "#  'SpecialAttack': 55.0,\n",
    "#  'SpecialDefense': 55.0,\n",
    "#  'Speed': 100.0,\n",
    "#  'Total': 330.0,\n",
    "#  'Type': 'Electric'},\n",
    "#  ... etc\n",
    "#  ]\n",
    "\n",
    "```\n",
    "\n"
   ]
  },
  {
   "cell_type": "code",
   "execution_count": 367,
   "metadata": {},
   "outputs": [],
   "source": [
    "from collections import defaultdict\n",
    "def filtered_pokedex(pokedex_data, filter):\n",
    "    result = defaultdict(list)\n",
    "    for f,t in filter.items():\n",
    "        f = f.title()\n",
    "        if (type(t) == float) | (type(t) == int):\n",
    "            for p,d in pokedex_data.items():\n",
    "                if d[f] >= t:\n",
    "                    result[f].append(d)\n",
    "        elif type(t) == str:\n",
    "            for p,d in pokedex_data.items():\n",
    "                if d[f] == t:\n",
    "                    result[f].append(d)\n",
    "        else:\n",
    "            print('Only strings and floats allowed for filter')\n",
    "            return None\n",
    "    \n",
    "    return [v for v in list(result.values())[0] if all(v in n for n in list(result.values())[1:])]\n"
   ]
  },
  {
   "cell_type": "code",
   "execution_count": 374,
   "metadata": {},
   "outputs": [],
   "source": [
    "filter_options = {\n",
    "    'Attack':   50,\n",
    "    'Defense':  50,\n",
    "    'Type':     'Electric'\n",
    "}"
   ]
  },
  {
   "cell_type": "code",
   "execution_count": 375,
   "metadata": {},
   "outputs": [],
   "source": [
    "d =filtered_pokedex(fulldex, filter_options)"
   ]
  },
  {
   "cell_type": "code",
   "execution_count": 376,
   "metadata": {},
   "outputs": [
    {
     "data": {
      "text/plain": [
       "[{'Name': 'Raichu',\n",
       "  'Type': 'Electric',\n",
       "  'Total': 485.0,\n",
       "  'HP': 60.0,\n",
       "  'Attack': 90.0,\n",
       "  'Defense': 55.0,\n",
       "  'SpecialAttack': 90.0,\n",
       "  'SpecialDefense': 80.0,\n",
       "  'Speed': 110.0},\n",
       " {'Name': 'Electrode',\n",
       "  'Type': 'Electric',\n",
       "  'Total': 480.0,\n",
       "  'HP': 60.0,\n",
       "  'Attack': 50.0,\n",
       "  'Defense': 70.0,\n",
       "  'SpecialAttack': 80.0,\n",
       "  'SpecialDefense': 80.0,\n",
       "  'Speed': 140.0},\n",
       " {'Name': 'Electabuzz',\n",
       "  'Type': 'Electric',\n",
       "  'Total': 490.0,\n",
       "  'HP': 65.0,\n",
       "  'Attack': 83.0,\n",
       "  'Defense': 57.0,\n",
       "  'SpecialAttack': 95.0,\n",
       "  'SpecialDefense': 85.0,\n",
       "  'Speed': 105.0},\n",
       " {'Name': 'Jolteon',\n",
       "  'Type': 'Electric',\n",
       "  'Total': 525.0,\n",
       "  'HP': 65.0,\n",
       "  'Attack': 65.0,\n",
       "  'Defense': 60.0,\n",
       "  'SpecialAttack': 110.0,\n",
       "  'SpecialDefense': 95.0,\n",
       "  'Speed': 130.0},\n",
       " {'Name': 'Flaaffy',\n",
       "  'Type': 'Electric',\n",
       "  'Total': 365.0,\n",
       "  'HP': 70.0,\n",
       "  'Attack': 55.0,\n",
       "  'Defense': 55.0,\n",
       "  'SpecialAttack': 80.0,\n",
       "  'SpecialDefense': 60.0,\n",
       "  'Speed': 45.0},\n",
       " {'Name': 'Ampharos',\n",
       "  'Type': 'Electric',\n",
       "  'Total': 510.0,\n",
       "  'HP': 90.0,\n",
       "  'Attack': 75.0,\n",
       "  'Defense': 85.0,\n",
       "  'SpecialAttack': 115.0,\n",
       "  'SpecialDefense': 90.0,\n",
       "  'Speed': 55.0},\n",
       " {'Name': 'Raikou',\n",
       "  'Type': 'Electric',\n",
       "  'Total': 580.0,\n",
       "  'HP': 90.0,\n",
       "  'Attack': 85.0,\n",
       "  'Defense': 75.0,\n",
       "  'SpecialAttack': 115.0,\n",
       "  'SpecialDefense': 100.0,\n",
       "  'Speed': 115.0},\n",
       " {'Name': 'Manectric',\n",
       "  'Type': 'Electric',\n",
       "  'Total': 475.0,\n",
       "  'HP': 70.0,\n",
       "  'Attack': 75.0,\n",
       "  'Defense': 60.0,\n",
       "  'SpecialAttack': 105.0,\n",
       "  'SpecialDefense': 60.0,\n",
       "  'Speed': 105.0},\n",
       " {'Name': 'ManectricMega Manectric',\n",
       "  'Type': 'Electric',\n",
       "  'Total': 575.0,\n",
       "  'HP': 70.0,\n",
       "  'Attack': 75.0,\n",
       "  'Defense': 80.0,\n",
       "  'SpecialAttack': 135.0,\n",
       "  'SpecialDefense': 80.0,\n",
       "  'Speed': 135.0},\n",
       " {'Name': 'Luxray',\n",
       "  'Type': 'Electric',\n",
       "  'Total': 523.0,\n",
       "  'HP': 80.0,\n",
       "  'Attack': 120.0,\n",
       "  'Defense': 79.0,\n",
       "  'SpecialAttack': 95.0,\n",
       "  'SpecialDefense': 79.0,\n",
       "  'Speed': 70.0},\n",
       " {'Name': 'Electivire',\n",
       "  'Type': 'Electric',\n",
       "  'Total': 540.0,\n",
       "  'HP': 75.0,\n",
       "  'Attack': 123.0,\n",
       "  'Defense': 67.0,\n",
       "  'SpecialAttack': 95.0,\n",
       "  'SpecialDefense': 85.0,\n",
       "  'Speed': 95.0},\n",
       " {'Name': 'Zebstrika',\n",
       "  'Type': 'Electric',\n",
       "  'Total': 497.0,\n",
       "  'HP': 75.0,\n",
       "  'Attack': 100.0,\n",
       "  'Defense': 63.0,\n",
       "  'SpecialAttack': 80.0,\n",
       "  'SpecialDefense': 63.0,\n",
       "  'Speed': 116.0},\n",
       " {'Name': 'Eelektrik',\n",
       "  'Type': 'Electric',\n",
       "  'Total': 405.0,\n",
       "  'HP': 65.0,\n",
       "  'Attack': 85.0,\n",
       "  'Defense': 70.0,\n",
       "  'SpecialAttack': 75.0,\n",
       "  'SpecialDefense': 70.0,\n",
       "  'Speed': 40.0},\n",
       " {'Name': 'Eelektross',\n",
       "  'Type': 'Electric',\n",
       "  'Total': 515.0,\n",
       "  'HP': 85.0,\n",
       "  'Attack': 115.0,\n",
       "  'Defense': 80.0,\n",
       "  'SpecialAttack': 105.0,\n",
       "  'SpecialDefense': 80.0,\n",
       "  'Speed': 50.0}]"
      ]
     },
     "execution_count": 376,
     "metadata": {},
     "output_type": "execute_result"
    }
   ],
   "source": [
    "d\n"
   ]
  },
  {
   "cell_type": "markdown",
   "metadata": {
    "collapsed": true
   },
   "source": [
    "\n",
    "## 9. Descriptive statistics on the prototype pokedex\n",
    "\n",
    "<img src=\"http://imgur.com/l5NasQj.png\" style=\"float: left; margin: 25px 15px 0px 0px; height: 25px\">\n",
    "### 9.1\n",
    "\n",
    "What is the population mean and standard deviation of the \"Total\" attribute for all characters in the Pokedex?\n",
    "\n"
   ]
  },
  {
   "cell_type": "code",
   "execution_count": 236,
   "metadata": {},
   "outputs": [],
   "source": [
    "total = [v['Total'] for v in fulldex.values()]"
   ]
  },
  {
   "cell_type": "code",
   "execution_count": 247,
   "metadata": {},
   "outputs": [],
   "source": [
    "t_mean = np.mean(total)"
   ]
  },
  {
   "cell_type": "code",
   "execution_count": 248,
   "metadata": {},
   "outputs": [
    {
     "data": {
      "text/plain": [
       "435.1275"
      ]
     },
     "execution_count": 248,
     "metadata": {},
     "output_type": "execute_result"
    }
   ],
   "source": [
    "t_mean"
   ]
  },
  {
   "cell_type": "code",
   "execution_count": 249,
   "metadata": {},
   "outputs": [],
   "source": [
    "t_std = np.std(total)"
   ]
  },
  {
   "cell_type": "code",
   "execution_count": 342,
   "metadata": {},
   "outputs": [
    {
     "data": {
      "text/plain": [
       "119.96202000529168"
      ]
     },
     "execution_count": 342,
     "metadata": {},
     "output_type": "execute_result"
    }
   ],
   "source": [
    "t_std"
   ]
  },
  {
   "cell_type": "markdown",
   "metadata": {},
   "source": [
    "<img src=\"http://imgur.com/l5NasQj.png\" style=\"float: left; margin: 25px 15px 0px 0px; height: 25px\">\n",
    "### 9.2\n",
    "\n",
    "The game is no fun if the characters are wildly unbalanced! Are any characters \"overpowered\", which we'll define as having a \"Total\" more than three standard deviations from the population mean?"
   ]
  },
  {
   "cell_type": "code",
   "execution_count": 323,
   "metadata": {},
   "outputs": [],
   "source": [
    "Overpowered = [(k,v) for k,v in fulldex.items() if v['Total'] > t_mean+t_std*3]"
   ]
  },
  {
   "cell_type": "code",
   "execution_count": 324,
   "metadata": {},
   "outputs": [
    {
     "data": {
      "text/plain": [
       "[(150.1,\n",
       "  {'Name': 'MewtwoMega Mewtwo X',\n",
       "   'Type': 'PsychicFighting',\n",
       "   'Total': 800.0,\n",
       "   'HP': 126.0,\n",
       "   'Attack': 190.0,\n",
       "   'Defense': 100.0,\n",
       "   'SpecialAttack': 154.0,\n",
       "   'SpecialDefense': 100.0,\n",
       "   'Speed': 130.0})]"
      ]
     },
     "execution_count": 324,
     "metadata": {},
     "output_type": "execute_result"
    }
   ],
   "source": [
    "Overpowered"
   ]
  },
  {
   "cell_type": "markdown",
   "metadata": {},
   "source": [
    "<img src=\"http://imgur.com/xDpSobf.png\" style=\"float: left; margin: 25px 15px 0px 0px; height: 25px\">\n",
    "\n",
    "## 10. Calibrate the frequency of Pokemon\n",
    "\n",
    "The design team wants you to make the powerful Pokemon rare, and the weaklings more common. How would you set the probability $p_i$ of finding Pokemon *i* each time a player visits a gym?\n",
    "\n",
    "Write a function that takes in a Pokedex number and returns a value $p_i$ for that character.\n",
    "\n",
    "Hint: there are many ways you could do this. What do _you_ think makes sense? Start with simplifying assumptions: for example, you could assume that the probabilities of encountering any two Pokemon on one visit to a gym are independent of each other."
   ]
  },
  {
   "cell_type": "code",
   "execution_count": 396,
   "metadata": {},
   "outputs": [],
   "source": [
    "import matplotlib.pyplot as plt\n",
    "\n",
    "%matplotlib inline\n"
   ]
  },
  {
   "cell_type": "code",
   "execution_count": 394,
   "metadata": {},
   "outputs": [
    {
     "data": {
      "text/plain": [
       "(array([ 2.,  8., 10.,  6.,  5., 14., 11., 12., 23., 34., 46., 24., 38.,\n",
       "        16., 20.,  7., 20., 12., 44., 19., 21., 14., 34., 26., 42., 68.,\n",
       "        21., 42., 27., 12.,  5.,  3., 24., 42.,  2.,  5.,  7.,  1.,  1.,\n",
       "         4., 13.,  9.,  0.,  1.,  0.,  0.,  0.,  2.,  2.,  1.]),\n",
       " array([180. , 192.4, 204.8, 217.2, 229.6, 242. , 254.4, 266.8, 279.2,\n",
       "        291.6, 304. , 316.4, 328.8, 341.2, 353.6, 366. , 378.4, 390.8,\n",
       "        403.2, 415.6, 428. , 440.4, 452.8, 465.2, 477.6, 490. , 502.4,\n",
       "        514.8, 527.2, 539.6, 552. , 564.4, 576.8, 589.2, 601.6, 614. ,\n",
       "        626.4, 638.8, 651.2, 663.6, 676. , 688.4, 700.8, 713.2, 725.6,\n",
       "        738. , 750.4, 762.8, 775.2, 787.6, 800. ]),\n",
       " <a list of 50 Patch objects>)"
      ]
     },
     "execution_count": 394,
     "metadata": {},
     "output_type": "execute_result"
    },
    {
     "data": {
      "image/png": "[encoded data removed]",
      "text/plain": [
       "<Figure size 432x288 with 1 Axes>"
      ]
     },
     "metadata": {
      "needs_background": "light"
     },
     "output_type": "display_data"
    }
   ],
   "source": [
    "plt.hist(total,bins=50)"
   ]
  },
  {
   "cell_type": "code",
   "execution_count": 397,
   "metadata": {},
   "outputs": [],
   "source": [
    "super_high_power = [(k,v) for k,v in fulldex.items() if v['Total'] > 700]"
   ]
  },
  {
   "cell_type": "code",
   "execution_count": 398,
   "metadata": {},
   "outputs": [],
   "source": [
    "higher_power = [(k,v) for k,v in fulldex.items() if (v['Total'] < 700) & (v['Total'] > t_mean+t_std*2)]"
   ]
  },
  {
   "cell_type": "code",
   "execution_count": null,
   "metadata": {},
   "outputs": [],
   "source": [
    "num_under_1std = len([v for v in total if v < t_mean-t_std])"
   ]
  },
  {
   "cell_type": "code",
   "execution_count": 298,
   "metadata": {},
   "outputs": [],
   "source": [
    "num_1std_to_mean =len([v for v in total if (v < t_mean) & (v>t_mean-t_std)])"
   ]
  },
  {
   "cell_type": "code",
   "execution_count": 299,
   "metadata": {},
   "outputs": [],
   "source": [
    "num_mean_to_1std = len([v for v in total if (v > t_mean) & (v<t_mean+t_std)])"
   ]
  },
  {
   "cell_type": "code",
   "execution_count": 300,
   "metadata": {},
   "outputs": [],
   "source": [
    "num_1std_to_2std = len([v for v in total if (v > t_mean+t_std) & (v<t_mean+t_std*2)])"
   ]
  },
  {
   "cell_type": "code",
   "execution_count": 301,
   "metadata": {},
   "outputs": [],
   "source": [
    "num_2std_to_3std = len([v for v in total if (v > t_mean+t_std*2) & (v<t_mean+t_std*3)])"
   ]
  },
  {
   "cell_type": "code",
   "execution_count": 310,
   "metadata": {},
   "outputs": [
    {
     "data": {
      "text/plain": [
       "168"
      ]
     },
     "execution_count": 310,
     "metadata": {},
     "output_type": "execute_result"
    }
   ],
   "source": [
    "num_under_1std"
   ]
  },
  {
   "cell_type": "code",
   "execution_count": 311,
   "metadata": {},
   "outputs": [
    {
     "data": {
      "text/plain": [
       "215"
      ]
     },
     "execution_count": 311,
     "metadata": {},
     "output_type": "execute_result"
    }
   ],
   "source": [
    "num_1std_to_mean"
   ]
  },
  {
   "cell_type": "code",
   "execution_count": 306,
   "metadata": {},
   "outputs": [
    {
     "data": {
      "text/plain": [
       "298"
      ]
     },
     "execution_count": 306,
     "metadata": {},
     "output_type": "execute_result"
    }
   ],
   "source": [
    "num_mean_to_1std"
   ]
  },
  {
   "cell_type": "code",
   "execution_count": 308,
   "metadata": {},
   "outputs": [
    {
     "data": {
      "text/plain": [
       "91"
      ]
     },
     "execution_count": 308,
     "metadata": {},
     "output_type": "execute_result"
    }
   ],
   "source": [
    "num_1std_to_2std"
   ]
  },
  {
   "cell_type": "code",
   "execution_count": 329,
   "metadata": {},
   "outputs": [
    {
     "data": {
      "text/plain": [
       "27"
      ]
     },
     "execution_count": 329,
     "metadata": {},
     "output_type": "execute_result"
    }
   ],
   "source": [
    "num_2std_to_3std"
   ]
  },
  {
   "cell_type": "code",
   "execution_count": 399,
   "metadata": {},
   "outputs": [
    {
     "data": {
      "text/plain": [
       "[(150.1,\n",
       "  {'Name': 'MewtwoMega Mewtwo X',\n",
       "   'Type': 'PsychicFighting',\n",
       "   'Total': 800.0,\n",
       "   'HP': 126.0,\n",
       "   'Attack': 190.0,\n",
       "   'Defense': 100.0,\n",
       "   'SpecialAttack': 154.0,\n",
       "   'SpecialDefense': 100.0,\n",
       "   'Speed': 130.0}),\n",
       " (150.2,\n",
       "  {'Name': 'MewtwoMega Mewtwo Y',\n",
       "   'Type': 'Psychic',\n",
       "   'Total': 780.0,\n",
       "   'HP': 106.0,\n",
       "   'Attack': 150.0,\n",
       "   'Defense': 70.0,\n",
       "   'SpecialAttack': 194.0,\n",
       "   'SpecialDefense': 120.0,\n",
       "   'Speed': 140.0}),\n",
       " (382.1,\n",
       "  {'Name': 'KyogrePrimal Kyogre',\n",
       "   'Type': 'Water',\n",
       "   'Total': 770.0,\n",
       "   'HP': 100.0,\n",
       "   'Attack': 150.0,\n",
       "   'Defense': 90.0,\n",
       "   'SpecialAttack': 180.0,\n",
       "   'SpecialDefense': 160.0,\n",
       "   'Speed': 90.0}),\n",
       " (383.1,\n",
       "  {'Name': 'GroudonPrimal Groudon',\n",
       "   'Type': 'GroundFire',\n",
       "   'Total': 770.0,\n",
       "   'HP': 100.0,\n",
       "   'Attack': 180.0,\n",
       "   'Defense': 160.0,\n",
       "   'SpecialAttack': 150.0,\n",
       "   'SpecialDefense': 90.0,\n",
       "   'Speed': 90.0}),\n",
       " (384.1,\n",
       "  {'Name': 'RayquazaMega Rayquaza',\n",
       "   'Type': 'DragonFlying',\n",
       "   'Total': 780.0,\n",
       "   'HP': 105.0,\n",
       "   'Attack': 180.0,\n",
       "   'Defense': 100.0,\n",
       "   'SpecialAttack': 180.0,\n",
       "   'SpecialDefense': 100.0,\n",
       "   'Speed': 115.0}),\n",
       " (493,\n",
       "  {'Name': 'Arceus',\n",
       "   'Type': 'Normal',\n",
       "   'Total': 720.0,\n",
       "   'HP': 120.0,\n",
       "   'Attack': 120.0,\n",
       "   'Defense': 120.0,\n",
       "   'SpecialAttack': 120.0,\n",
       "   'SpecialDefense': 120.0,\n",
       "   'Speed': 120.0})]"
      ]
     },
     "execution_count": 399,
     "metadata": {},
     "output_type": "execute_result"
    }
   ],
   "source": [
    "super_high_power"
   ]
  },
  {
   "cell_type": "code",
   "execution_count": 400,
   "metadata": {},
   "outputs": [
    {
     "data": {
      "text/plain": [
       "[(150,\n",
       "  {'Name': 'Mewtwo',\n",
       "   'Type': 'Psychic',\n",
       "   'Total': 680.0,\n",
       "   'HP': 106.0,\n",
       "   'Attack': 110.0,\n",
       "   'Defense': 90.0,\n",
       "   'SpecialAttack': 154.0,\n",
       "   'SpecialDefense': 90.0,\n",
       "   'Speed': 130.0}),\n",
       " (249,\n",
       "  {'Name': 'Lugia',\n",
       "   'Type': 'PsychicFlying',\n",
       "   'Total': 680.0,\n",
       "   'HP': 106.0,\n",
       "   'Attack': 90.0,\n",
       "   'Defense': 130.0,\n",
       "   'SpecialAttack': 90.0,\n",
       "   'SpecialDefense': 154.0,\n",
       "   'Speed': 110.0}),\n",
       " (250,\n",
       "  {'Name': 'Ho-oh',\n",
       "   'Type': 'FireFlying',\n",
       "   'Total': 680.0,\n",
       "   'HP': 106.0,\n",
       "   'Attack': 130.0,\n",
       "   'Defense': 90.0,\n",
       "   'SpecialAttack': 110.0,\n",
       "   'SpecialDefense': 154.0,\n",
       "   'Speed': 90.0}),\n",
       " (384,\n",
       "  {'Name': 'Rayquaza',\n",
       "   'Type': 'DragonFlying',\n",
       "   'Total': 680.0,\n",
       "   'HP': 105.0,\n",
       "   'Attack': 150.0,\n",
       "   'Defense': 90.0,\n",
       "   'SpecialAttack': 150.0,\n",
       "   'SpecialDefense': 90.0,\n",
       "   'Speed': 95.0}),\n",
       " (483,\n",
       "  {'Name': 'Dialga',\n",
       "   'Type': 'SteelDragon',\n",
       "   'Total': 680.0,\n",
       "   'HP': 100.0,\n",
       "   'Attack': 120.0,\n",
       "   'Defense': 120.0,\n",
       "   'SpecialAttack': 150.0,\n",
       "   'SpecialDefense': 100.0,\n",
       "   'Speed': 90.0}),\n",
       " (484,\n",
       "  {'Name': 'Palkia',\n",
       "   'Type': 'WaterDragon',\n",
       "   'Total': 680.0,\n",
       "   'HP': 90.0,\n",
       "   'Attack': 120.0,\n",
       "   'Defense': 100.0,\n",
       "   'SpecialAttack': 150.0,\n",
       "   'SpecialDefense': 120.0,\n",
       "   'Speed': 100.0}),\n",
       " (487,\n",
       "  {'Name': 'GiratinaAltered Forme',\n",
       "   'Type': 'GhostDragon',\n",
       "   'Total': 680.0,\n",
       "   'HP': 150.0,\n",
       "   'Attack': 100.0,\n",
       "   'Defense': 120.0,\n",
       "   'SpecialAttack': 100.0,\n",
       "   'SpecialDefense': 120.0,\n",
       "   'Speed': 90.0}),\n",
       " (487.1,\n",
       "  {'Name': 'GiratinaOrigin Forme',\n",
       "   'Type': 'GhostDragon',\n",
       "   'Total': 680.0,\n",
       "   'HP': 150.0,\n",
       "   'Attack': 120.0,\n",
       "   'Defense': 100.0,\n",
       "   'SpecialAttack': 120.0,\n",
       "   'SpecialDefense': 100.0,\n",
       "   'Speed': 90.0}),\n",
       " (643,\n",
       "  {'Name': 'Reshiram',\n",
       "   'Type': 'DragonFire',\n",
       "   'Total': 680.0,\n",
       "   'HP': 100.0,\n",
       "   'Attack': 120.0,\n",
       "   'Defense': 100.0,\n",
       "   'SpecialAttack': 150.0,\n",
       "   'SpecialDefense': 120.0,\n",
       "   'Speed': 90.0}),\n",
       " (644,\n",
       "  {'Name': 'Zekrom',\n",
       "   'Type': 'DragonElectric',\n",
       "   'Total': 680.0,\n",
       "   'HP': 100.0,\n",
       "   'Attack': 150.0,\n",
       "   'Defense': 120.0,\n",
       "   'SpecialAttack': 120.0,\n",
       "   'SpecialDefense': 100.0,\n",
       "   'Speed': 90.0}),\n",
       " (716,\n",
       "  {'Name': 'Xerneas',\n",
       "   'Type': 'Fairy',\n",
       "   'Total': 680.0,\n",
       "   'HP': 126.0,\n",
       "   'Attack': 131.0,\n",
       "   'Defense': 95.0,\n",
       "   'SpecialAttack': 131.0,\n",
       "   'SpecialDefense': 98.0,\n",
       "   'Speed': 99.0}),\n",
       " (717,\n",
       "  {'Name': 'Yveltal',\n",
       "   'Type': 'DarkFlying',\n",
       "   'Total': 680.0,\n",
       "   'HP': 126.0,\n",
       "   'Attack': 131.0,\n",
       "   'Defense': 95.0,\n",
       "   'SpecialAttack': 131.0,\n",
       "   'SpecialDefense': 98.0,\n",
       "   'Speed': 99.0}),\n",
       " (720.1,\n",
       "  {'Name': 'HoopaHoopa Unbound',\n",
       "   'Type': 'PsychicDark',\n",
       "   'Total': 680.0,\n",
       "   'HP': 80.0,\n",
       "   'Attack': 160.0,\n",
       "   'Defense': 60.0,\n",
       "   'SpecialAttack': 170.0,\n",
       "   'SpecialDefense': 130.0,\n",
       "   'Speed': 80.0})]"
      ]
     },
     "execution_count": 400,
     "metadata": {},
     "output_type": "execute_result"
    }
   ],
   "source": [
    "higher_power"
   ]
  },
  {
   "cell_type": "code",
   "execution_count": 341,
   "metadata": {},
   "outputs": [],
   "source": [
    "# Under -1 std: 45%\n",
    "# -1 std to mean: 25%\n",
    "# mean to +1 std: 20%\n",
    "# +1 std to +2 std: 9%\n",
    "# +2 std to 700 total power: 0.99%\n",
    "# above 700 total power: 0.01%\n",
    "\n",
    "def probPoke(pokedex, index):\n",
    "    if index not in pokedex:\n",
    "        print('index does not exist')\n",
    "        return \n",
    "    \n",
    "    v = pokedex[index]['Total']\n",
    "    if v < t_mean-t_std:\n",
    "        return 0.45\n",
    "    elif v < t_mean:\n",
    "        return 0.25\n",
    "    elif v<t_mean+t_std:\n",
    "        return 0.20\n",
    "    elif v<t_mean+t_std*2:\n",
    "        return 0.09\n",
    "    elif v<700:\n",
    "        return 0.0099\n",
    "    else:\n",
    "        return 0.0001\n",
    "    "
   ]
  },
  {
   "cell_type": "code",
   "execution_count": 336,
   "metadata": {},
   "outputs": [
    {
     "data": {
      "text/plain": [
       "0.09"
      ]
     },
     "execution_count": 336,
     "metadata": {},
     "output_type": "execute_result"
    }
   ],
   "source": [
    "probPoke(fulldex,721)"
   ]
  },
  {
   "cell_type": "code",
   "execution_count": 337,
   "metadata": {},
   "outputs": [
    {
     "data": {
      "text/plain": [
       "0.0001"
      ]
     },
     "execution_count": 337,
     "metadata": {},
     "output_type": "execute_result"
    }
   ],
   "source": [
    "probPoke(fulldex,150.1)"
   ]
  }
 ],
 "metadata": {
  "anaconda-cloud": {},
  "kernelspec": {
   "display_name": "Python 3",
   "language": "python",
   "name": "python3"
  },
  "language_info": {
   "codemirror_mode": {
    "name": "ipython",
    "version": 3
   },
   "file_extension": ".py",
   "mimetype": "text/x-python",
   "name": "python",
   "nbconvert_exporter": "python",
   "pygments_lexer": "ipython3",
   "version": "3.7.4"
  },
  "varInspector": {
   "cols": {
    "lenName": 16,
    "lenType": 16,
    "lenVar": 40
   },
   "kernels_config": {
    "python": {
     "delete_cmd_postfix": "",
     "delete_cmd_prefix": "del ",
     "library": "var_list.py",
     "varRefreshCmd": "print(var_dic_list())"
    },
    "r": {
     "delete_cmd_postfix": ") ",
     "delete_cmd_prefix": "rm(",
     "library": "var_list.r",
     "varRefreshCmd": "cat(var_dic_list()) "
    }
   },
   "types_to_exclude": [
    "module",
    "function",
    "builtin_function_or_method",
    "instance",
    "_Feature"
   ],
   "window_display": false
  }
 },
 "nbformat": 4,
 "nbformat_minor": 1
}
